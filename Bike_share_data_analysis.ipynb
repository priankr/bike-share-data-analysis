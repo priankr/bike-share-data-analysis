{
 "cells": [
  {
   "cell_type": "markdown",
   "metadata": {},
   "source": [
    "# Bike Share Rides Data Analysis"
   ]
  },
  {
   "cell_type": "markdown",
   "metadata": {},
   "source": [
    "Analysis of a case study that was part of the Google Data Analytics Certificate.\n",
    "\n",
    "Dataset describes a bike-share company in Chicago that is seeking to understand its user demographics and redesign it's marketing strategy to increase the number of users opting in for annual memberships. Dataset only covers data for 2019."
   ]
  },
  {
   "cell_type": "code",
   "execution_count": 1,
   "metadata": {},
   "outputs": [],
   "source": [
    "import numpy as np\n",
    "import pandas as pd"
   ]
  },
  {
   "cell_type": "code",
   "execution_count": 2,
   "metadata": {},
   "outputs": [],
   "source": [
    "import matplotlib.pyplot as plt\n",
    "import seaborn as sns"
   ]
  },
  {
   "cell_type": "code",
   "execution_count": 3,
   "metadata": {},
   "outputs": [],
   "source": [
    "%matplotlib inline"
   ]
  },
  {
   "cell_type": "code",
   "execution_count": 4,
   "metadata": {},
   "outputs": [],
   "source": [
    "import datetime"
   ]
  },
  {
   "cell_type": "code",
   "execution_count": 5,
   "metadata": {},
   "outputs": [],
   "source": [
    "bks_df = pd.read_csv('bike_share_rawdata.csv')"
   ]
  },
  {
   "cell_type": "code",
   "execution_count": 6,
   "metadata": {},
   "outputs": [
    {
     "data": {
      "text/html": [
       "<div>\n",
       "<style scoped>\n",
       "    .dataframe tbody tr th:only-of-type {\n",
       "        vertical-align: middle;\n",
       "    }\n",
       "\n",
       "    .dataframe tbody tr th {\n",
       "        vertical-align: top;\n",
       "    }\n",
       "\n",
       "    .dataframe thead th {\n",
       "        text-align: right;\n",
       "    }\n",
       "</style>\n",
       "<table border=\"1\" class=\"dataframe\">\n",
       "  <thead>\n",
       "    <tr style=\"text-align: right;\">\n",
       "      <th></th>\n",
       "      <th>trip_id</th>\n",
       "      <th>start_time</th>\n",
       "      <th>end_time</th>\n",
       "      <th>bikeid</th>\n",
       "      <th>tripduration</th>\n",
       "      <th>from_station_id</th>\n",
       "      <th>from_station_name</th>\n",
       "      <th>to_station_id</th>\n",
       "      <th>to_station_name</th>\n",
       "      <th>usertype</th>\n",
       "      <th>gender</th>\n",
       "      <th>birthyear</th>\n",
       "    </tr>\n",
       "  </thead>\n",
       "  <tbody>\n",
       "    <tr>\n",
       "      <th>0</th>\n",
       "      <td>21742443</td>\n",
       "      <td>01-01-2019 00:04</td>\n",
       "      <td>01-01-2019 00:11</td>\n",
       "      <td>2167</td>\n",
       "      <td>390</td>\n",
       "      <td>199</td>\n",
       "      <td>Wabash Ave &amp; Grand Ave</td>\n",
       "      <td>84</td>\n",
       "      <td>Milwaukee Ave &amp; Grand Ave</td>\n",
       "      <td>Subscriber</td>\n",
       "      <td>Male</td>\n",
       "      <td>1989.0</td>\n",
       "    </tr>\n",
       "    <tr>\n",
       "      <th>1</th>\n",
       "      <td>21742444</td>\n",
       "      <td>01-01-2019 00:08</td>\n",
       "      <td>01-01-2019 00:15</td>\n",
       "      <td>4386</td>\n",
       "      <td>441</td>\n",
       "      <td>44</td>\n",
       "      <td>State St &amp; Randolph St</td>\n",
       "      <td>624</td>\n",
       "      <td>Dearborn St &amp; Van Buren St (*)</td>\n",
       "      <td>Subscriber</td>\n",
       "      <td>Female</td>\n",
       "      <td>1990.0</td>\n",
       "    </tr>\n",
       "    <tr>\n",
       "      <th>2</th>\n",
       "      <td>21742445</td>\n",
       "      <td>01-01-2019 00:13</td>\n",
       "      <td>01-01-2019 00:27</td>\n",
       "      <td>1524</td>\n",
       "      <td>829</td>\n",
       "      <td>15</td>\n",
       "      <td>Racine Ave &amp; 18th St</td>\n",
       "      <td>644</td>\n",
       "      <td>Western Ave &amp; Fillmore St (*)</td>\n",
       "      <td>Subscriber</td>\n",
       "      <td>Female</td>\n",
       "      <td>1994.0</td>\n",
       "    </tr>\n",
       "    <tr>\n",
       "      <th>3</th>\n",
       "      <td>21742446</td>\n",
       "      <td>01-01-2019 00:13</td>\n",
       "      <td>01-01-2019 00:43</td>\n",
       "      <td>252</td>\n",
       "      <td>1783</td>\n",
       "      <td>123</td>\n",
       "      <td>California Ave &amp; Milwaukee Ave</td>\n",
       "      <td>176</td>\n",
       "      <td>Clark St &amp; Elm St</td>\n",
       "      <td>Subscriber</td>\n",
       "      <td>Male</td>\n",
       "      <td>1993.0</td>\n",
       "    </tr>\n",
       "    <tr>\n",
       "      <th>4</th>\n",
       "      <td>21742447</td>\n",
       "      <td>01-01-2019 00:14</td>\n",
       "      <td>01-01-2019 00:20</td>\n",
       "      <td>1170</td>\n",
       "      <td>364</td>\n",
       "      <td>173</td>\n",
       "      <td>Mies van der Rohe Way &amp; Chicago Ave</td>\n",
       "      <td>35</td>\n",
       "      <td>Streeter Dr &amp; Grand Ave</td>\n",
       "      <td>Subscriber</td>\n",
       "      <td>Male</td>\n",
       "      <td>1994.0</td>\n",
       "    </tr>\n",
       "  </tbody>\n",
       "</table>\n",
       "</div>"
      ],
      "text/plain": [
       "    trip_id        start_time          end_time  bikeid  tripduration  \\\n",
       "0  21742443  01-01-2019 00:04  01-01-2019 00:11    2167           390   \n",
       "1  21742444  01-01-2019 00:08  01-01-2019 00:15    4386           441   \n",
       "2  21742445  01-01-2019 00:13  01-01-2019 00:27    1524           829   \n",
       "3  21742446  01-01-2019 00:13  01-01-2019 00:43     252          1783   \n",
       "4  21742447  01-01-2019 00:14  01-01-2019 00:20    1170           364   \n",
       "\n",
       "   from_station_id                    from_station_name  to_station_id  \\\n",
       "0              199               Wabash Ave & Grand Ave             84   \n",
       "1               44               State St & Randolph St            624   \n",
       "2               15                 Racine Ave & 18th St            644   \n",
       "3              123       California Ave & Milwaukee Ave            176   \n",
       "4              173  Mies van der Rohe Way & Chicago Ave             35   \n",
       "\n",
       "                  to_station_name    usertype  gender  birthyear  \n",
       "0       Milwaukee Ave & Grand Ave  Subscriber    Male     1989.0  \n",
       "1  Dearborn St & Van Buren St (*)  Subscriber  Female     1990.0  \n",
       "2   Western Ave & Fillmore St (*)  Subscriber  Female     1994.0  \n",
       "3               Clark St & Elm St  Subscriber    Male     1993.0  \n",
       "4         Streeter Dr & Grand Ave  Subscriber    Male     1994.0  "
      ]
     },
     "execution_count": 6,
     "metadata": {},
     "output_type": "execute_result"
    }
   ],
   "source": [
    "bks_df.head()"
   ]
  },
  {
   "cell_type": "markdown",
   "metadata": {},
   "source": [
    "Based on the raw data provided we can explore the following questions:\n",
    "\n",
    "- How many users are there in each user type (Subscriber/Customer)?\n",
    "- How many users are there in each gender category?\n",
    "- What is the average age of each user?\n",
    "- What is the distribution of rides by age?\n",
    "- What is the distribution of rides by day of week and month?\n",
    "- What is the trip duration? What is the average trip duration across user types, ages and gender?\n",
    "- When do trips usually begin? What time periods are the busiest?\n",
    "- Which bike stations do the most rides begin/end at?"
   ]
  },
  {
   "cell_type": "markdown",
   "metadata": {},
   "source": [
    "# Data Cleaning and Preparation"
   ]
  },
  {
   "cell_type": "markdown",
   "metadata": {},
   "source": [
    "In this stage the data is checked for accuracy and completeness prior to beginning the analysis. \n",
    "\n",
    "- Removing extraneous data and outliers.\n",
    "- Filling in missing values.\n",
    "- Conforming data to a standardized pattern.\n",
    "- Identifying errors revealed when new variables are created.\n",
    "- Deleting data that cannot be corrected.\n",
    "\n",
    "Note: There are no unique identifiers for each user so the data does not account for multiple trips made by users. Therefore, it will not be able to tell us how many unique users are associated with the ride data. "
   ]
  },
  {
   "cell_type": "markdown",
   "metadata": {},
   "source": [
    "# Checking for missing values"
   ]
  },
  {
   "cell_type": "code",
   "execution_count": 7,
   "metadata": {
    "scrolled": false
   },
   "outputs": [
    {
     "name": "stdout",
     "output_type": "stream",
     "text": [
      "<class 'pandas.core.frame.DataFrame'>\n",
      "RangeIndex: 365069 entries, 0 to 365068\n",
      "Data columns (total 12 columns):\n",
      " #   Column             Non-Null Count   Dtype  \n",
      "---  ------             --------------   -----  \n",
      " 0   trip_id            365069 non-null  int64  \n",
      " 1   start_time         365069 non-null  object \n",
      " 2   end_time           365069 non-null  object \n",
      " 3   bikeid             365069 non-null  int64  \n",
      " 4   tripduration       365069 non-null  int64  \n",
      " 5   from_station_id    365069 non-null  int64  \n",
      " 6   from_station_name  365069 non-null  object \n",
      " 7   to_station_id      365069 non-null  int64  \n",
      " 8   to_station_name    365069 non-null  object \n",
      " 9   usertype           365069 non-null  object \n",
      " 10  gender             345358 non-null  object \n",
      " 11  birthyear          347046 non-null  float64\n",
      "dtypes: float64(1), int64(5), object(6)\n",
      "memory usage: 33.4+ MB\n"
     ]
    }
   ],
   "source": [
    "bks_df.info()"
   ]
  },
  {
   "cell_type": "markdown",
   "metadata": {},
   "source": [
    "The gender and birthyear columns appear to have missing values. \n",
    "\n",
    "The missing values originate from a variety of reasons:\n",
    "- The user may have forgotten to enter the value.  \n",
    "- For missing gender values, the user may have identified with a different gender identify than the two options provided. \n",
    "- Hardware or software error in the bikes is affecting accuracy of trip data and so on.\n",
    "\n",
    "As we are interested in Customer data it is important to identify how many of the missing vales belong to the Customers. Additionally, it is recommended to make both the above values a required field for user data collection purposes to avoid missing data in the future. "
   ]
  },
  {
   "cell_type": "code",
   "execution_count": 8,
   "metadata": {},
   "outputs": [
    {
     "data": {
      "text/plain": [
       "False    345358\n",
       "True      19711\n",
       "Name: gender, dtype: int64"
      ]
     },
     "execution_count": 8,
     "metadata": {},
     "output_type": "execute_result"
    }
   ],
   "source": [
    "##Rows with missing value for gender\n",
    "\n",
    "bks_df['gender'].isnull().value_counts() "
   ]
  },
  {
   "cell_type": "code",
   "execution_count": 9,
   "metadata": {
    "scrolled": true
   },
   "outputs": [
    {
     "data": {
      "text/plain": [
       "trip_id              17228\n",
       "start_time           17228\n",
       "end_time             17228\n",
       "bikeid               17228\n",
       "tripduration         17228\n",
       "from_station_id      17228\n",
       "from_station_name    17228\n",
       "to_station_id        17228\n",
       "to_station_name      17228\n",
       "usertype             17228\n",
       "gender                   0\n",
       "birthyear              103\n",
       "dtype: int64"
      ]
     },
     "execution_count": 9,
     "metadata": {},
     "output_type": "execute_result"
    }
   ],
   "source": [
    "#Number of Customers with missing gender\n",
    "bks_df[(bks_df['gender'].isnull()==True)& (bks_df['usertype']==\"Customer\")].count()"
   ]
  },
  {
   "cell_type": "markdown",
   "metadata": {},
   "source": [
    "The majority <i>(17228/19711)</i> of the missing gender values belong to the <b>Customer</b> data."
   ]
  },
  {
   "cell_type": "code",
   "execution_count": 10,
   "metadata": {},
   "outputs": [
    {
     "data": {
      "text/plain": [
       "False    347046\n",
       "True      18023\n",
       "Name: birthyear, dtype: int64"
      ]
     },
     "execution_count": 10,
     "metadata": {},
     "output_type": "execute_result"
    }
   ],
   "source": [
    "##Rows with missing value for birthyear\n",
    "\n",
    "bks_df['birthyear'].isnull().value_counts() "
   ]
  },
  {
   "cell_type": "code",
   "execution_count": 11,
   "metadata": {
    "scrolled": true
   },
   "outputs": [
    {
     "data": {
      "text/plain": [
       "trip_id              17126\n",
       "start_time           17126\n",
       "end_time             17126\n",
       "bikeid               17126\n",
       "tripduration         17126\n",
       "from_station_id      17126\n",
       "from_station_name    17126\n",
       "to_station_id        17126\n",
       "to_station_name      17126\n",
       "usertype             17126\n",
       "gender                   1\n",
       "birthyear                0\n",
       "dtype: int64"
      ]
     },
     "execution_count": 11,
     "metadata": {},
     "output_type": "execute_result"
    }
   ],
   "source": [
    "#Number of Customers with missing birthyears\n",
    "bks_df[(bks_df['birthyear'].isnull()==True)& (bks_df['usertype']==\"Customer\")].count()"
   ]
  },
  {
   "cell_type": "code",
   "execution_count": 12,
   "metadata": {},
   "outputs": [
    {
     "data": {
      "text/plain": [
       "trip_id              897\n",
       "start_time           897\n",
       "end_time             897\n",
       "bikeid               897\n",
       "tripduration         897\n",
       "from_station_id      897\n",
       "from_station_name    897\n",
       "to_station_id        897\n",
       "to_station_name      897\n",
       "usertype             897\n",
       "gender                 0\n",
       "birthyear              0\n",
       "dtype: int64"
      ]
     },
     "execution_count": 12,
     "metadata": {},
     "output_type": "execute_result"
    }
   ],
   "source": [
    "#Number of Subscribers with missing birthyears\n",
    "bks_df[(bks_df['birthyear'].isnull()==True)& (bks_df['usertype']==\"Subscriber\")].count()"
   ]
  },
  {
   "cell_type": "markdown",
   "metadata": {},
   "source": [
    "The majority <i>(17126/18023)</i> of the missing birthyear values belong to the <b>Customer</b> data."
   ]
  },
  {
   "cell_type": "markdown",
   "metadata": {},
   "source": [
    "### Replacing Missing Values"
   ]
  },
  {
   "cell_type": "markdown",
   "metadata": {},
   "source": [
    "As there are a significant number of Customer data points in the missing data, we need to replace the missing data to get a better picture of the customer behavior. The missing data for the Subscribers is relatively less significant compared to the number of Subscribers.\n",
    "\n",
    "- We can replace missing gender values with a \"Other Gender Identity\" since we do not have the specific context stating otherwise. \n",
    "- We can replace missing birthyear vales with the average age for Customers. However, this will skew the age customer data towards the average of the customers who were not missing birthyear values.\n"
   ]
  },
  {
   "cell_type": "code",
   "execution_count": 13,
   "metadata": {},
   "outputs": [],
   "source": [
    "bks_df['gender'] = bks_df['gender'].fillna(\"Other Gender Identity\")"
   ]
  },
  {
   "cell_type": "code",
   "execution_count": 14,
   "metadata": {},
   "outputs": [
    {
     "data": {
      "text/plain": [
       "Male                     278440\n",
       "Female                    66918\n",
       "Other Gender Identity     19711\n",
       "Name: gender, dtype: int64"
      ]
     },
     "execution_count": 14,
     "metadata": {},
     "output_type": "execute_result"
    }
   ],
   "source": [
    "## We have replaced all missing gender values\n",
    "\n",
    "bks_df['gender'].value_counts() "
   ]
  },
  {
   "cell_type": "code",
   "execution_count": 15,
   "metadata": {},
   "outputs": [
    {
     "data": {
      "text/plain": [
       "usertype\n",
       "Customer      1989.0\n",
       "Subscriber    1982.0\n",
       "Name: birthyear, dtype: float64"
      ]
     },
     "execution_count": 15,
     "metadata": {},
     "output_type": "execute_result"
    }
   ],
   "source": [
    "#Identifying average birthyear for each usertype\n",
    "avg_age = bks_df.groupby('usertype')['birthyear'].mean().round()\n",
    "avg_age"
   ]
  },
  {
   "cell_type": "code",
   "execution_count": 16,
   "metadata": {},
   "outputs": [],
   "source": [
    "#The following line of code helps identify all values in the birthyear column that are null for customer data:\n",
    "#bks_df.loc[(bks_df['usertype']=='Customer') & (bks_df['birthyear'].isnull()==True),['birthyear']]\n",
    "\n",
    "#Replacing missing values with the average customer age\n",
    "bks_df.loc[(bks_df['usertype']=='Customer') & (bks_df['birthyear'].isnull()==True),['birthyear']] = bks_df.loc[(bks_df['usertype']=='Customer') & (bks_df['birthyear'].isnull()==True),['birthyear']].fillna(1989)"
   ]
  },
  {
   "cell_type": "code",
   "execution_count": 17,
   "metadata": {},
   "outputs": [
    {
     "data": {
      "text/plain": [
       "False    364172\n",
       "True        897\n",
       "Name: birthyear, dtype: int64"
      ]
     },
     "execution_count": 17,
     "metadata": {},
     "output_type": "execute_result"
    }
   ],
   "source": [
    "##Rows with missing value for birthyear have been replaced\n",
    "\n",
    "bks_df['birthyear'].isnull().value_counts() "
   ]
  },
  {
   "cell_type": "markdown",
   "metadata": {},
   "source": [
    "The only remaining values that are mising are the subscribers with missing birthyear."
   ]
  },
  {
   "cell_type": "markdown",
   "metadata": {},
   "source": [
    "### Deleting Missing Values"
   ]
  },
  {
   "cell_type": "code",
   "execution_count": 18,
   "metadata": {},
   "outputs": [],
   "source": [
    "bks_df.dropna(subset=['birthyear'], inplace=True)"
   ]
  },
  {
   "cell_type": "code",
   "execution_count": 19,
   "metadata": {},
   "outputs": [
    {
     "data": {
      "text/plain": [
       "False    364172\n",
       "Name: birthyear, dtype: int64"
      ]
     },
     "execution_count": 19,
     "metadata": {},
     "output_type": "execute_result"
    }
   ],
   "source": [
    "## We have deleted all rows with missing birthyear values\n",
    "\n",
    "bks_df['birthyear'].isnull().value_counts() "
   ]
  },
  {
   "cell_type": "code",
   "execution_count": 20,
   "metadata": {
    "scrolled": true
   },
   "outputs": [
    {
     "name": "stdout",
     "output_type": "stream",
     "text": [
      "<class 'pandas.core.frame.DataFrame'>\n",
      "Int64Index: 364172 entries, 0 to 365068\n",
      "Data columns (total 12 columns):\n",
      " #   Column             Non-Null Count   Dtype  \n",
      "---  ------             --------------   -----  \n",
      " 0   trip_id            364172 non-null  int64  \n",
      " 1   start_time         364172 non-null  object \n",
      " 2   end_time           364172 non-null  object \n",
      " 3   bikeid             364172 non-null  int64  \n",
      " 4   tripduration       364172 non-null  int64  \n",
      " 5   from_station_id    364172 non-null  int64  \n",
      " 6   from_station_name  364172 non-null  object \n",
      " 7   to_station_id      364172 non-null  int64  \n",
      " 8   to_station_name    364172 non-null  object \n",
      " 9   usertype           364172 non-null  object \n",
      " 10  gender             364172 non-null  object \n",
      " 11  birthyear          364172 non-null  float64\n",
      "dtypes: float64(1), int64(5), object(6)\n",
      "memory usage: 36.1+ MB\n"
     ]
    }
   ],
   "source": [
    "bks_df.info()"
   ]
  },
  {
   "cell_type": "markdown",
   "metadata": {},
   "source": [
    "All missing values have been dealt with."
   ]
  },
  {
   "cell_type": "markdown",
   "metadata": {},
   "source": [
    "## Correcting formatting issues in data"
   ]
  },
  {
   "cell_type": "code",
   "execution_count": 21,
   "metadata": {},
   "outputs": [],
   "source": [
    "#Converting start time and end time to datetime values \n",
    "\n",
    "bks_df['start_time'] = pd.to_datetime(bks_df['start_time'])\n",
    "bks_df['end_time'] = pd.to_datetime(bks_df['end_time'])"
   ]
  },
  {
   "cell_type": "code",
   "execution_count": 22,
   "metadata": {},
   "outputs": [],
   "source": [
    "#Converting birthyear to int format\n",
    "bks_df['birthyear'] = bks_df['birthyear'].astype(int)"
   ]
  },
  {
   "cell_type": "markdown",
   "metadata": {},
   "source": [
    "## Checking for other issues with values"
   ]
  },
  {
   "cell_type": "markdown",
   "metadata": {},
   "source": [
    "### Trip start and end times"
   ]
  },
  {
   "cell_type": "code",
   "execution_count": 23,
   "metadata": {
    "scrolled": true
   },
   "outputs": [
    {
     "data": {
      "text/plain": [
       "True     364105\n",
       "False        67\n",
       "dtype: int64"
      ]
     },
     "execution_count": 23,
     "metadata": {},
     "output_type": "execute_result"
    }
   ],
   "source": [
    "#Checking for any instances where end time is earlier than the start time\n",
    "\n",
    "(bks_df['end_time'] > bks_df['start_time']).value_counts()"
   ]
  },
  {
   "cell_type": "markdown",
   "metadata": {},
   "source": [
    "The error could originate from a variety of reasons:\n",
    "- Start and end times may have been swapped\n",
    "- Start and end times may have been entered incorrectly\n",
    "- Hardware or software error in the bikes is affecting accuracy of trip data and so on. \n",
    "\n",
    "As the source of the error is unknown, correcting the values is not possible so the associated rows will be deleted."
   ]
  },
  {
   "cell_type": "code",
   "execution_count": 24,
   "metadata": {},
   "outputs": [],
   "source": [
    "#Deleting rows where end time is earlier than start time\n",
    "\n",
    "bks_df.drop(bks_df[bks_df['end_time'] < bks_df['start_time']].index, inplace = True)"
   ]
  },
  {
   "cell_type": "code",
   "execution_count": 25,
   "metadata": {},
   "outputs": [
    {
     "data": {
      "text/plain": [
       "True    364105\n",
       "dtype: int64"
      ]
     },
     "execution_count": 25,
     "metadata": {},
     "output_type": "execute_result"
    }
   ],
   "source": [
    "#Rows have been sucessfully deleted\n",
    "\n",
    "(bks_df['end_time'] > bks_df['start_time']).value_counts()"
   ]
  },
  {
   "cell_type": "markdown",
   "metadata": {},
   "source": [
    "### Trip Duration"
   ]
  },
  {
   "cell_type": "markdown",
   "metadata": {},
   "source": [
    "We have a column with <b>\"tripduration\"</b> that appears to be in seconds. However we have to check if the values are consistent with the actual trip duration."
   ]
  },
  {
   "cell_type": "code",
   "execution_count": 26,
   "metadata": {},
   "outputs": [],
   "source": [
    "# Calculating Trip duration in a new column\n",
    "bks_df['trip_duration'] = bks_df['end_time'] - bks_df['start_time']"
   ]
  },
  {
   "cell_type": "markdown",
   "metadata": {},
   "source": [
    "The trip duration calculated will be as a timedelta value which indicates the absolute time difference (for example \"1 day 10:10:10\")"
   ]
  },
  {
   "cell_type": "code",
   "execution_count": 27,
   "metadata": {},
   "outputs": [
    {
     "data": {
      "text/plain": [
       "False    363720\n",
       "True        385\n",
       "Name: trip_duration, dtype: int64"
      ]
     },
     "execution_count": 27,
     "metadata": {},
     "output_type": "execute_result"
    }
   ],
   "source": [
    "#Checking if any trips exceed 1 day\n",
    "\n",
    "(bks_df['trip_duration']>pd.Timedelta(\"1 days\")).value_counts() "
   ]
  },
  {
   "cell_type": "code",
   "execution_count": 28,
   "metadata": {},
   "outputs": [
    {
     "data": {
      "text/plain": [
       "Timedelta('302 days 12:38:00')"
      ]
     },
     "execution_count": 28,
     "metadata": {},
     "output_type": "execute_result"
    }
   ],
   "source": [
    "#Checking the longest trip duration\n",
    "\n",
    "bks_df['trip_duration'].max()"
   ]
  },
  {
   "cell_type": "markdown",
   "metadata": {},
   "source": [
    "The bike share trips are meant for commutes around the city and it would not make sense for a trip to exceed one day. Therefore, we have incorrect values that need to be removed. "
   ]
  },
  {
   "cell_type": "code",
   "execution_count": 29,
   "metadata": {},
   "outputs": [],
   "source": [
    "#Deleting rows where end time is earlier than start time\n",
    "\n",
    "bks_df.drop(bks_df[bks_df['trip_duration']>pd.Timedelta(\"1 days\")].index, inplace = True)"
   ]
  },
  {
   "cell_type": "code",
   "execution_count": 30,
   "metadata": {},
   "outputs": [
    {
     "data": {
      "text/plain": [
       "False    363720\n",
       "Name: trip_duration, dtype: int64"
      ]
     },
     "execution_count": 30,
     "metadata": {},
     "output_type": "execute_result"
    }
   ],
   "source": [
    "#Rows with duration trips duration exceeding 1 day have been deleted\n",
    "\n",
    "(bks_df['trip_duration']>pd.Timedelta(\"1 days\")).value_counts() "
   ]
  },
  {
   "cell_type": "markdown",
   "metadata": {},
   "source": [
    "Now that we have calculated the trip duration and removed the erroneous values, we can convert it to seconds"
   ]
  },
  {
   "cell_type": "code",
   "execution_count": 31,
   "metadata": {},
   "outputs": [],
   "source": [
    "#Creating a new column where we will convert 'trip_duration' into seconds\n",
    "bks_df['trip_duration_seconds'] = bks_df['trip_duration'].dt.total_seconds()"
   ]
  },
  {
   "cell_type": "code",
   "execution_count": 32,
   "metadata": {
    "scrolled": true
   },
   "outputs": [
    {
     "data": {
      "text/plain": [
       "False    359096\n",
       "True       4624\n",
       "dtype: int64"
      ]
     },
     "execution_count": 32,
     "metadata": {},
     "output_type": "execute_result"
    }
   ],
   "source": [
    "#Comparing values in the trip_duration_seconds to tripduration\n",
    "(bks_df['trip_duration_seconds'] == bks_df['tripduration']).value_counts()"
   ]
  },
  {
   "cell_type": "markdown",
   "metadata": {},
   "source": [
    "It appears the majority of the values do not match, which presents three possibilities:\n",
    "1. The <b>tripduration</b> values in the raw data may be capturing actual ride time in which case they may not include time the user is taking to unlock the bike, get on the bike etc. In this instance we can expect that the <b>tripduration</b> values to be lower than <b>trip_duration_seconds</b> values.\n",
    "2. The <b>tripduration</b> values may be inaccurate, which could be leading to the discrepancy. \n",
    "3. The <b>start_time</b> and <b>end_time</b> values may be inaccurate, which could be leading to the discrepancy. "
   ]
  },
  {
   "cell_type": "code",
   "execution_count": 33,
   "metadata": {},
   "outputs": [
    {
     "data": {
      "text/plain": [
       "False    183346\n",
       "True     180374\n",
       "dtype: int64"
      ]
     },
     "execution_count": 33,
     "metadata": {},
     "output_type": "execute_result"
    }
   ],
   "source": [
    "#Comparing values in the trip_duration_seconds to tripduration to check if tripduration is always less than trip_duration_seconds\n",
    "(bks_df['trip_duration_seconds'] > bks_df['tripduration']).value_counts()"
   ]
  },
  {
   "cell_type": "markdown",
   "metadata": {},
   "source": [
    "The <b>tripduration</b> values are not consistently lower than the <b>tripduration</b> values, so we can rule out the first possibility. \n",
    "\n",
    "In the absence of specific context, it is not possible to verify if the second or third possibility are true. Therefore, we will make the assumption that the <b>start_time</b> and <b>end_time</b> values are accurate and delete the <b>tripduration</b> column."
   ]
  },
  {
   "cell_type": "code",
   "execution_count": 34,
   "metadata": {},
   "outputs": [],
   "source": [
    "#Deleting the tripduration column\n",
    "bks_df.drop('tripduration',axis=1, inplace=True)"
   ]
  },
  {
   "cell_type": "markdown",
   "metadata": {},
   "source": [
    "## Creating new features"
   ]
  },
  {
   "cell_type": "markdown",
   "metadata": {},
   "source": [
    "In this stage we are adding new features that will provide more insight into the data."
   ]
  },
  {
   "cell_type": "markdown",
   "metadata": {},
   "source": [
    "### Age"
   ]
  },
  {
   "cell_type": "code",
   "execution_count": 35,
   "metadata": {},
   "outputs": [],
   "source": [
    "from datetime import date\n",
    "\n",
    "bks_df['age'] = date.today().year - bks_df['birthyear']"
   ]
  },
  {
   "cell_type": "markdown",
   "metadata": {},
   "source": [
    "### Day of week"
   ]
  },
  {
   "cell_type": "code",
   "execution_count": 36,
   "metadata": {},
   "outputs": [],
   "source": [
    "#Identifying which day of the week the ride occured\n",
    "\n",
    "bks_df['day_of_week'] = bks_df['end_time'].dt.day_name()"
   ]
  },
  {
   "cell_type": "markdown",
   "metadata": {},
   "source": [
    "### Month"
   ]
  },
  {
   "cell_type": "code",
   "execution_count": 37,
   "metadata": {},
   "outputs": [],
   "source": [
    "#Identifying which month the ride occured\n",
    "\n",
    "bks_df['month'] = bks_df['end_time'].apply(lambda time: time.month)"
   ]
  },
  {
   "cell_type": "code",
   "execution_count": 38,
   "metadata": {},
   "outputs": [],
   "source": [
    "#We needs to convert the values in the Month column from numbers to names of Months\n",
    "\n",
    "dmap = {1:'January',2:'February',3:'March',4:'April',5:'May',6:'June',7:'July',8:'August',9:'September',10:'October',11:'November',12:'December'}"
   ]
  },
  {
   "cell_type": "code",
   "execution_count": 39,
   "metadata": {},
   "outputs": [],
   "source": [
    "#Mapping our new dictionary to the Month column in the Dataframe\n",
    "\n",
    "bks_df['month'] = bks_df['month'].map(dmap)"
   ]
  },
  {
   "cell_type": "markdown",
   "metadata": {},
   "source": [
    "# Data Analysis and Visualization"
   ]
  },
  {
   "cell_type": "markdown",
   "metadata": {},
   "source": [
    "In this stage, we will examine the data to identify any patterns, trends and relationships between the variables. It will help us analyze the data and extract insights that can be used to make decisions.\n",
    "\n",
    "Data Visualization will gives us a clear idea of what the data means by giving it visual context."
   ]
  },
  {
   "cell_type": "markdown",
   "metadata": {},
   "source": [
    "### Checking for any correlation in the data"
   ]
  },
  {
   "cell_type": "code",
   "execution_count": 40,
   "metadata": {
    "scrolled": true
   },
   "outputs": [
    {
     "data": {
      "text/plain": [
       "<AxesSubplot:>"
      ]
     },
     "execution_count": 40,
     "metadata": {},
     "output_type": "execute_result"
    },
    {
     "data": {
      "image/png": "[encoded data removed]",
      "text/plain": [
       "<Figure size 432x288 with 2 Axes>"
      ]
     },
     "metadata": {
      "needs_background": "light"
     },
     "output_type": "display_data"
    }
   ],
   "source": [
    "#Checking for any obvious correlation in the numeric variables\n",
    "sns.heatmap(bks_df.corr())"
   ]
  },
  {
   "cell_type": "markdown",
   "metadata": {},
   "source": [
    "There does not appear to be any significant and meaningful correlation between variables"
   ]
  },
  {
   "cell_type": "markdown",
   "metadata": {},
   "source": [
    "### User Types"
   ]
  },
  {
   "cell_type": "markdown",
   "metadata": {},
   "source": [
    "The users are divided into two types: <b> Subscribers</b> and <b>Customer</b>. \n",
    "    \n",
    "- Users who purchase an annual membership fee are referred to as Subscribers \n",
    "- Users who purchase single-ride or full-day passes are referred to as Customers"
   ]
  },
  {
   "cell_type": "code",
   "execution_count": 41,
   "metadata": {},
   "outputs": [
    {
     "data": {
      "text/plain": [
       "Subscriber    340685\n",
       "Customer       23035\n",
       "Name: usertype, dtype: int64"
      ]
     },
     "execution_count": 41,
     "metadata": {},
     "output_type": "execute_result"
    }
   ],
   "source": [
    "#Number of trips associated with users in each category\n",
    "\n",
    "bks_df['usertype'].value_counts()"
   ]
  },
  {
   "cell_type": "code",
   "execution_count": 42,
   "metadata": {},
   "outputs": [
    {
     "data": {
      "text/plain": [
       "14.8"
      ]
     },
     "execution_count": 42,
     "metadata": {},
     "output_type": "execute_result"
    }
   ],
   "source": [
    "Subscriber = 340685\n",
    "Customer = 23035\n",
    "\n",
    "round(Subscriber/Customer,1)"
   ]
  },
  {
   "cell_type": "markdown",
   "metadata": {},
   "source": [
    "There are <b>14.8 times</b> more Subscribers than Customers"
   ]
  },
  {
   "cell_type": "code",
   "execution_count": 43,
   "metadata": {},
   "outputs": [
    {
     "data": {
      "text/plain": [
       "Text(0.5, 1.0, 'Number of Users of Each Type')"
      ]
     },
     "execution_count": 43,
     "metadata": {},
     "output_type": "execute_result"
    },
    {
     "data": {
      "image/png": "[encoded data removed]",
      "text/plain": [
       "<Figure size 432x288 with 1 Axes>"
      ]
     },
     "metadata": {
      "needs_background": "light"
     },
     "output_type": "display_data"
    }
   ],
   "source": [
    "user_count = bks_df['usertype']\n",
    "sns.countplot(x=user_count,data=bks_df,palette='viridis')\n",
    "plt.title(\"Number of Users of Each Type\", fontsize=20)"
   ]
  },
  {
   "cell_type": "markdown",
   "metadata": {},
   "source": [
    "The users are overwhelmingly in the <b>Subscriber</b> category. The marketing strategy is therefore aimed at converting the relatively small number of users from Customers to Subscribers."
   ]
  },
  {
   "cell_type": "markdown",
   "metadata": {},
   "source": [
    "### Gender"
   ]
  },
  {
   "cell_type": "code",
   "execution_count": 44,
   "metadata": {},
   "outputs": [
    {
     "data": {
      "text/plain": [
       "Male                     278169\n",
       "Female                    66851\n",
       "Other Gender Identity     18700\n",
       "Name: gender, dtype: int64"
      ]
     },
     "execution_count": 44,
     "metadata": {},
     "output_type": "execute_result"
    }
   ],
   "source": [
    "#Number of trips associated with users of each gender\n",
    "\n",
    "bks_df['gender'].value_counts()"
   ]
  },
  {
   "cell_type": "code",
   "execution_count": 45,
   "metadata": {},
   "outputs": [
    {
     "data": {
      "text/plain": [
       "Text(0.5, 1.0, 'Percentage of Users in Each Gender Category')"
      ]
     },
     "execution_count": 45,
     "metadata": {},
     "output_type": "execute_result"
    },
    {
     "data": {
      "image/png": "[encoded data removed]",
      "text/plain": [
       "<Figure size 432x432 with 1 Axes>"
      ]
     },
     "metadata": {},
     "output_type": "display_data"
    }
   ],
   "source": [
    "gender_df = bks_df['gender'].value_counts()\n",
    "\n",
    "explode = (0, 0.1, 0.2)\n",
    "\n",
    "gender_df.plot.pie(figsize=(6, 6), autopct=\"%.1f\",fontsize=20,labels=None, legend=True, explode=explode).set_ylabel('')\n",
    "plt.title(\"Percentage of Users in Each Gender Category\", fontsize=20)\n",
    "\n",
    "# autopct=\"%.1f\" shows the percentage to 1 decimal place \n",
    "#.set_ylabel('') and can be added to remove the usertype label on the left of the chart.set_ylabel('')\n",
    "# The explosion array specifies the fraction of the radius with which to offset each slice."
   ]
  },
  {
   "cell_type": "markdown",
   "metadata": {},
   "source": [
    "## Age"
   ]
  },
  {
   "cell_type": "markdown",
   "metadata": {},
   "source": [
    "<b> Age statistics for all users</b>"
   ]
  },
  {
   "cell_type": "code",
   "execution_count": 46,
   "metadata": {},
   "outputs": [
    {
     "name": "stdout",
     "output_type": "stream",
     "text": [
      "Youngest user is  18 years old\n",
      "Oldest user is  121 years old\n",
      "Average user is  39 years old\n",
      "Average standard deviation in age is 11 years\n"
     ]
    }
   ],
   "source": [
    "print(\"Youngest user is \", bks_df['age'].min(),\"years old\")\n",
    "print(\"Oldest user is \", bks_df['age'].max(),\"years old\")\n",
    "print(\"Average user is \", round(bks_df['age'].mean()),\"years old\")\n",
    "print(\"Average standard deviation in age is\", round(bks_df['age'].std()),\"years\")"
   ]
  },
  {
   "cell_type": "markdown",
   "metadata": {},
   "source": [
    "<b> Age statistics by gender</b>"
   ]
  },
  {
   "cell_type": "code",
   "execution_count": 47,
   "metadata": {
    "scrolled": true
   },
   "outputs": [
    {
     "data": {
      "text/plain": [
       "gender\n",
       "Female                   38.0\n",
       "Male                     40.0\n",
       "Other Gender Identity    33.0\n",
       "Name: age, dtype: float64"
      ]
     },
     "execution_count": 47,
     "metadata": {},
     "output_type": "execute_result"
    }
   ],
   "source": [
    "# Identifying the average age by gender \n",
    "\n",
    "bks_df.groupby('gender')['age'].mean().round()"
   ]
  },
  {
   "cell_type": "code",
   "execution_count": 48,
   "metadata": {
    "scrolled": true
   },
   "outputs": [
    {
     "data": {
      "text/plain": [
       "Text(0.5, 1.0, 'Age Breakdown for Rides')"
      ]
     },
     "execution_count": 48,
     "metadata": {},
     "output_type": "execute_result"
    },
    {
     "data": {
      "image/png": "[encoded data removed]",
      "text/plain": [
       "<Figure size 864x576 with 1 Axes>"
      ]
     },
     "metadata": {
      "needs_background": "light"
     },
     "output_type": "display_data"
    }
   ],
   "source": [
    "fig_dims = (12, 8)\n",
    "fig, ax = plt.subplots(figsize=fig_dims)\n",
    "\n",
    "sns.histplot(data=bks_df, x=\"age\",binwidth=2,kde=True)\n",
    "plt.title(\"Age Breakdown for Rides\", fontsize=20)"
   ]
  },
  {
   "cell_type": "markdown",
   "metadata": {},
   "source": [
    "Users <b>between the ages of 32-34</b> make the most rides overall."
   ]
  },
  {
   "cell_type": "code",
   "execution_count": 51,
   "metadata": {},
   "outputs": [
    {
     "data": {
      "text/plain": [
       "Text(0.5, 0.98, 'Age breakdown by Usertype for Rides')"
      ]
     },
     "execution_count": 51,
     "metadata": {},
     "output_type": "execute_result"
    },
    {
     "data": {
      "image/png": "[encoded data removed]",
      "text/plain": [
       "<Figure size 864x432 with 2 Axes>"
      ]
     },
     "metadata": {
      "needs_background": "light"
     },
     "output_type": "display_data"
    }
   ],
   "source": [
    "graph = sns.FacetGrid(bks_df, col=\"usertype\", height=6)\n",
    "graph.map_dataframe(sns.histplot,x=\"age\",binwidth=2)\n",
    "\n",
    "#Setting the title for the FacetGrid \n",
    "graph.fig.subplots_adjust(top=0.85)\n",
    "graph.fig.suptitle('Age breakdown by Usertype for Rides', fontsize=20)"
   ]
  },
  {
   "cell_type": "markdown",
   "metadata": {},
   "source": [
    "- Subscribers <b>between the ages of 32-34</b> make the most rides.\n",
    "- Customers <b>between the ages of 31-33</b> make the most rides."
   ]
  },
  {
   "cell_type": "code",
   "execution_count": 55,
   "metadata": {
    "scrolled": true
   },
   "outputs": [
    {
     "data": {
      "text/plain": [
       "Text(0.5, 0.98, 'Age breakdown by Usertype and Gender for Rides')"
      ]
     },
     "execution_count": 55,
     "metadata": {},
     "output_type": "execute_result"
    },
    {
     "data": {
      "image/png": "[encoded data removed]",
      "text/plain": [
       "<Figure size 864x1296 with 6 Axes>"
      ]
     },
     "metadata": {
      "needs_background": "light"
     },
     "output_type": "display_data"
    }
   ],
   "source": [
    "graph = sns.FacetGrid(bks_df, row=\"gender\",col=\"usertype\", height=6)\n",
    "graph.map_dataframe(sns.histplot,x=\"age\",binwidth=2)\n",
    "\n",
    "#Setting the title for the FacetGrid \n",
    "graph.fig.subplots_adjust(top=0.85)\n",
    "graph.fig.suptitle('Age breakdown by Usertype and Gender for Rides', fontsize=20)"
   ]
  },
  {
   "cell_type": "markdown",
   "metadata": {},
   "source": [
    "<b>Subscribers</b>\n",
    "\n",
    "- Male users <b>between the ages of 32-34</b> make the most rides.\n",
    "- Female users <b>between the ages of 31-33</b> make the most rides.\n",
    "- Other Gender Identity users <b>between the ages of 38-40</b> make the most rides.\n",
    "\n",
    "<b>Customers</b>\n",
    "\n",
    "- Male users <b>between the ages of 27-29</b> make the most rides.\n",
    "- Female users <b>between the ages of 25-27</b> make the most rides.\n",
    "- Other Gender Identity users <b>between the ages of 31-33</b> make the most rides"
   ]
  },
  {
   "cell_type": "markdown",
   "metadata": {},
   "source": [
    "## Day of Week"
   ]
  },
  {
   "cell_type": "code",
   "execution_count": 262,
   "metadata": {},
   "outputs": [
    {
     "data": {
      "text/plain": [
       "Thursday     66543\n",
       "Tuesday      59524\n",
       "Wednesday    57915\n",
       "Friday       57651\n",
       "Monday       47113\n",
       "Sunday       38558\n",
       "Saturday     36416\n",
       "Name: day_of_week, dtype: int64"
      ]
     },
     "execution_count": 262,
     "metadata": {},
     "output_type": "execute_result"
    }
   ],
   "source": [
    "#Number of rides on any given day of the week\n",
    "bks_df['day_of_week'].value_counts()"
   ]
  },
  {
   "cell_type": "code",
   "execution_count": 263,
   "metadata": {},
   "outputs": [
    {
     "data": {
      "text/plain": [
       "Text(0.5, 1.0, 'Bike Share Ride Breakdown by Day of Week')"
      ]
     },
     "execution_count": 263,
     "metadata": {},
     "output_type": "execute_result"
    },
    {
     "data": {
      "image/png": "[encoded data removed]",
      "text/plain": [
       "<Figure size 864x288 with 1 Axes>"
      ]
     },
     "metadata": {
      "needs_background": "light"
     },
     "output_type": "display_data"
    }
   ],
   "source": [
    "fig_dims = (12, 4)\n",
    "fig, ax = plt.subplots(figsize=fig_dims)\n",
    "\n",
    "# order = bks_df['day_of_week'].value_counts().index helps us sort the count plot by the value counts\n",
    "\n",
    "sns.countplot(x='day_of_week',data=bks_df,order = bks_df['day_of_week'].value_counts().index,palette='viridis')\n",
    "plt.title(\"Bike Share Ride Breakdown by Day of Week\", fontsize=20)"
   ]
  },
  {
   "cell_type": "markdown",
   "metadata": {},
   "source": [
    "<b>Thursdays</b> are the busiest days of the week for rides"
   ]
  },
  {
   "cell_type": "markdown",
   "metadata": {},
   "source": [
    "## Month"
   ]
  },
  {
   "cell_type": "code",
   "execution_count": 264,
   "metadata": {},
   "outputs": [
    {
     "data": {
      "text/plain": [
       "March        127161\n",
       "February      65249\n",
       "January       54228\n",
       "November      15997\n",
       "April         15044\n",
       "May           14915\n",
       "August        14769\n",
       "June          13483\n",
       "July          13382\n",
       "December      11520\n",
       "September      9087\n",
       "October        8885\n",
       "Name: month, dtype: int64"
      ]
     },
     "execution_count": 264,
     "metadata": {},
     "output_type": "execute_result"
    }
   ],
   "source": [
    "bks_df['month'].value_counts()"
   ]
  },
  {
   "cell_type": "code",
   "execution_count": 265,
   "metadata": {
    "scrolled": true
   },
   "outputs": [
    {
     "data": {
      "text/plain": [
       "Text(0.5, 1.0, 'Bike Share Ride Breakdown by Month')"
      ]
     },
     "execution_count": 265,
     "metadata": {},
     "output_type": "execute_result"
    },
    {
     "data": {
      "image/png": "[encoded data removed]",
      "text/plain": [
       "<Figure size 864x288 with 1 Axes>"
      ]
     },
     "metadata": {
      "needs_background": "light"
     },
     "output_type": "display_data"
    }
   ],
   "source": [
    "fig_dims = (12, 4)\n",
    "fig, ax = plt.subplots(figsize=fig_dims)\n",
    "\n",
    "#order = bks_df['month'].value_counts().index helps us sort the count plot by the value counts\n",
    "\n",
    "sns.countplot(x='month',data=bks_df,palette='viridis')\n",
    "plt.title(\"Bike Share Ride Breakdown by Month\", fontsize=20)"
   ]
  },
  {
   "cell_type": "markdown",
   "metadata": {},
   "source": [
    "There is a steep increase in rides starting from January with <b>March</b> being the busiest month for rides. The ridership drops off in April and does not fluctuate as significantly for the rest of the year."
   ]
  },
  {
   "cell_type": "markdown",
   "metadata": {},
   "source": [
    "## Trip Duration"
   ]
  },
  {
   "cell_type": "markdown",
   "metadata": {},
   "source": [
    "<b> Trip Duration Statistics </b>"
   ]
  },
  {
   "cell_type": "code",
   "execution_count": 266,
   "metadata": {
    "scrolled": false
   },
   "outputs": [
    {
     "name": "stdout",
     "output_type": "stream",
     "text": [
      "The longest trip duration was 0 days 23:29:00 \n",
      "The shortest trip duration was 0 days 00:01:00 \n",
      "The average trip duration was 0 days 00:12:36.275156713\n"
     ]
    }
   ],
   "source": [
    "max_trip = bks_df['trip_duration'].max()\n",
    "min_trip = bks_df['trip_duration'].min()\n",
    "mean_trip = bks_df['trip_duration'].mean()\n",
    "print(\"The longest trip duration was\",max_trip,\"\\nThe shortest trip duration was\",min_trip,\"\\nThe average trip duration was\",mean_trip)"
   ]
  },
  {
   "cell_type": "code",
   "execution_count": 267,
   "metadata": {
    "scrolled": true
   },
   "outputs": [
    {
     "data": {
      "text/plain": [
       "Text(0.5, 1.0, 'Ride Duration Times')"
      ]
     },
     "execution_count": 267,
     "metadata": {},
     "output_type": "execute_result"
    },
    {
     "data": {
      "image/png": "[encoded data removed]",
      "text/plain": [
       "<Figure size 720x360 with 1 Axes>"
      ]
     },
     "metadata": {
      "needs_background": "light"
     },
     "output_type": "display_data"
    }
   ],
   "source": [
    "# Analyzing the trip duration times to identify any trends\n",
    "\n",
    "fig_dims = (10, 5)\n",
    "fig, ax = plt.subplots(figsize=fig_dims)\n",
    "\n",
    "trip_duration_counts = bks_df['trip_duration'].value_counts()\n",
    "\n",
    "trip_duration_counts.plot()\n",
    "\n",
    "plt.title(\"Ride Duration Times\", fontsize=20)"
   ]
  },
  {
   "cell_type": "code",
   "execution_count": 268,
   "metadata": {},
   "outputs": [
    {
     "data": {
      "text/plain": [
       "True     359683\n",
       "False      4037\n",
       "Name: trip_duration, dtype: int64"
      ]
     },
     "execution_count": 268,
     "metadata": {},
     "output_type": "execute_result"
    }
   ],
   "source": [
    "#Checking how many trips exceed the 1 hour mark\n",
    "(bks_df['trip_duration']<pd.Timedelta(\"1 hour\")).value_counts() "
   ]
  },
  {
   "cell_type": "markdown",
   "metadata": {},
   "source": [
    "As seen in the plot and the data above the <b>majority of trips do not exceed an hour.</b>"
   ]
  },
  {
   "cell_type": "markdown",
   "metadata": {},
   "source": [
    "### Trip Duration by User Type"
   ]
  },
  {
   "cell_type": "code",
   "execution_count": 269,
   "metadata": {},
   "outputs": [
    {
     "data": {
      "text/html": [
       "<div>\n",
       "<style scoped>\n",
       "    .dataframe tbody tr th:only-of-type {\n",
       "        vertical-align: middle;\n",
       "    }\n",
       "\n",
       "    .dataframe tbody tr th {\n",
       "        vertical-align: top;\n",
       "    }\n",
       "\n",
       "    .dataframe thead th {\n",
       "        text-align: right;\n",
       "    }\n",
       "</style>\n",
       "<table border=\"1\" class=\"dataframe\">\n",
       "  <thead>\n",
       "    <tr style=\"text-align: right;\">\n",
       "      <th></th>\n",
       "      <th>average_trip_duration</th>\n",
       "      <th>number_of_trips</th>\n",
       "    </tr>\n",
       "    <tr>\n",
       "      <th>usertype</th>\n",
       "      <th></th>\n",
       "      <th></th>\n",
       "    </tr>\n",
       "  </thead>\n",
       "  <tbody>\n",
       "    <tr>\n",
       "      <th>Customer</th>\n",
       "      <td>0 days 00:34:23</td>\n",
       "      <td>23035</td>\n",
       "    </tr>\n",
       "    <tr>\n",
       "      <th>Subscriber</th>\n",
       "      <td>0 days 00:11:08</td>\n",
       "      <td>340685</td>\n",
       "    </tr>\n",
       "  </tbody>\n",
       "</table>\n",
       "</div>"
      ],
      "text/plain": [
       "           average_trip_duration  number_of_trips\n",
       "usertype                                         \n",
       "Customer         0 days 00:34:23            23035\n",
       "Subscriber       0 days 00:11:08           340685"
      ]
     },
     "execution_count": 269,
     "metadata": {},
     "output_type": "execute_result"
    }
   ],
   "source": [
    "#Identifying the average trip duration for each user type\n",
    "user_df = bks_df.groupby('usertype')['trip_duration_seconds'].mean().round()\n",
    "\n",
    "#Converting the series user_df to a dataframe\n",
    "user_df = user_df.to_frame()\n",
    "\n",
    "#Converting 'trip_duration_seconds' back into timedelta format for readability \n",
    "user_df['average_trip_duration'] = user_df['trip_duration_seconds'].apply(lambda time: (datetime.timedelta(seconds = time))) \n",
    "\n",
    "#Dropping 'trip_duration_seconds' as it is no longer needed\n",
    "user_df.drop('trip_duration_seconds',axis=1, inplace=True)\n",
    "\n",
    "#Identifying number of trips for each user type\n",
    "user_df['number_of_trips'] = bks_df['usertype'].value_counts()\n",
    "\n",
    "user_df"
   ]
  },
  {
   "cell_type": "code",
   "execution_count": 271,
   "metadata": {},
   "outputs": [
    {
     "data": {
      "text/plain": [
       "3.1"
      ]
     },
     "execution_count": 271,
     "metadata": {},
     "output_type": "execute_result"
    }
   ],
   "source": [
    "cus = pd.to_timedelta(\"0 days 00:34:23\")\n",
    "sub = pd.to_timedelta(\"0 days 00:11:08\")\n",
    "\n",
    "round(cus/sub,1)"
   ]
  },
  {
   "cell_type": "markdown",
   "metadata": {},
   "source": [
    "On average, <b>Customers make trips that are 3.1 times longer than Subscribers.</b>"
   ]
  },
  {
   "cell_type": "markdown",
   "metadata": {},
   "source": [
    "<b>Note:</b> it would be useful to know the frequency of trips made by individual users to understand whether individual Customers trips more or less often than individual Subscribers. The marketing strategy may differ depending on the result. For example it is harder to convince a customer who takes a long trip once every few months to purchase an annual membership as opposed to a customer who takes a long trip more frequently. \n",
    "\n",
    "However, as mentioned before there are no unique identifiers for each user so the data does not account for multiple trips made by users. Therefore, it will not be able to tell us how many unique users are associated with the ride data. "
   ]
  },
  {
   "cell_type": "markdown",
   "metadata": {},
   "source": [
    "### Trip Duration, Number of Trips and Demographic Data"
   ]
  },
  {
   "cell_type": "code",
   "execution_count": 272,
   "metadata": {
    "scrolled": true
   },
   "outputs": [
    {
     "data": {
      "text/html": [
       "<div>\n",
       "<style scoped>\n",
       "    .dataframe tbody tr th:only-of-type {\n",
       "        vertical-align: middle;\n",
       "    }\n",
       "\n",
       "    .dataframe tbody tr th {\n",
       "        vertical-align: top;\n",
       "    }\n",
       "\n",
       "    .dataframe thead th {\n",
       "        text-align: right;\n",
       "    }\n",
       "</style>\n",
       "<table border=\"1\" class=\"dataframe\">\n",
       "  <thead>\n",
       "    <tr style=\"text-align: right;\">\n",
       "      <th></th>\n",
       "      <th></th>\n",
       "      <th>average_trip_duration</th>\n",
       "      <th>number_of_trips</th>\n",
       "      <th>average_age</th>\n",
       "    </tr>\n",
       "    <tr>\n",
       "      <th>usertype</th>\n",
       "      <th>gender</th>\n",
       "      <th></th>\n",
       "      <th></th>\n",
       "      <th></th>\n",
       "    </tr>\n",
       "  </thead>\n",
       "  <tbody>\n",
       "    <tr>\n",
       "      <th rowspan=\"3\" valign=\"top\">Customer</th>\n",
       "      <th>Female</th>\n",
       "      <td>0 days 00:35:40</td>\n",
       "      <td>1871</td>\n",
       "      <td>31.0</td>\n",
       "    </tr>\n",
       "    <tr>\n",
       "      <th>Male</th>\n",
       "      <td>0 days 00:29:08</td>\n",
       "      <td>4045</td>\n",
       "      <td>32.0</td>\n",
       "    </tr>\n",
       "    <tr>\n",
       "      <th>Other Gender Identity</th>\n",
       "      <td>0 days 00:35:29</td>\n",
       "      <td>17119</td>\n",
       "      <td>32.0</td>\n",
       "    </tr>\n",
       "    <tr>\n",
       "      <th rowspan=\"3\" valign=\"top\">Subscriber</th>\n",
       "      <th>Female</th>\n",
       "      <td>0 days 00:11:53</td>\n",
       "      <td>64980</td>\n",
       "      <td>38.0</td>\n",
       "    </tr>\n",
       "    <tr>\n",
       "      <th>Male</th>\n",
       "      <td>0 days 00:10:54</td>\n",
       "      <td>274124</td>\n",
       "      <td>40.0</td>\n",
       "    </tr>\n",
       "    <tr>\n",
       "      <th>Other Gender Identity</th>\n",
       "      <td>0 days 00:19:45</td>\n",
       "      <td>1581</td>\n",
       "      <td>43.0</td>\n",
       "    </tr>\n",
       "  </tbody>\n",
       "</table>\n",
       "</div>"
      ],
      "text/plain": [
       "                                 average_trip_duration  number_of_trips  \\\n",
       "usertype   gender                                                         \n",
       "Customer   Female                      0 days 00:35:40             1871   \n",
       "           Male                        0 days 00:29:08             4045   \n",
       "           Other Gender Identity       0 days 00:35:29            17119   \n",
       "Subscriber Female                      0 days 00:11:53            64980   \n",
       "           Male                        0 days 00:10:54           274124   \n",
       "           Other Gender Identity       0 days 00:19:45             1581   \n",
       "\n",
       "                                  average_age  \n",
       "usertype   gender                              \n",
       "Customer   Female                        31.0  \n",
       "           Male                          32.0  \n",
       "           Other Gender Identity         32.0  \n",
       "Subscriber Female                        38.0  \n",
       "           Male                          40.0  \n",
       "           Other Gender Identity         43.0  "
      ]
     },
     "execution_count": 272,
     "metadata": {},
     "output_type": "execute_result"
    }
   ],
   "source": [
    "#Identifying the average trip duration for each user type\n",
    "user_df = bks_df.groupby(['usertype','gender'])['trip_duration_seconds'].mean().round()\n",
    "\n",
    "#Converting the series user_df to a dataframe\n",
    "user_df = user_df.to_frame()\n",
    "\n",
    "#Converting 'trip_duration_seconds' back into timedelta format for readability \n",
    "user_df['average_trip_duration'] = user_df['trip_duration_seconds'].apply(lambda time: (datetime.timedelta(seconds = time))) \n",
    "\n",
    "#Dropping 'trip_duration_seconds' as it is no longer needed\n",
    "user_df.drop('trip_duration_seconds',axis=1, inplace=True)\n",
    "\n",
    "#Identifying number of trips for each user type\n",
    "user_df['number_of_trips'] = bks_df.groupby('usertype')['gender'].value_counts()\n",
    "\n",
    "#Identifying average age by usertype and gender\n",
    "user_df['average_age'] = bks_df.groupby(['usertype','gender'])['age'].mean().round()\n",
    "\n",
    "user_df"
   ]
  },
  {
   "cell_type": "markdown",
   "metadata": {},
   "source": [
    "In the <b>Customer</b> category\n",
    "- Female users are making the longest trips.\n",
    "- Average age range is 31-32.\n",
    "\n",
    "In the <b>Subscriber</b> category\n",
    "- Other Gender Identity users are making the longest trips.\n",
    "- Average age range is 38-43.\n",
    "\n",
    "Overall,\n",
    "- On average, Customers are make longer trips than Subscribers in each gender category. \n",
    "- On average, Customers are younger than Subscribers. \n",
    "- Male users make the most trips in both categories. "
   ]
  },
  {
   "cell_type": "markdown",
   "metadata": {},
   "source": [
    "### Average Trip Duration by Day of Week"
   ]
  },
  {
   "cell_type": "code",
   "execution_count": 273,
   "metadata": {
    "scrolled": true
   },
   "outputs": [
    {
     "data": {
      "text/html": [
       "<div>\n",
       "<style scoped>\n",
       "    .dataframe tbody tr th:only-of-type {\n",
       "        vertical-align: middle;\n",
       "    }\n",
       "\n",
       "    .dataframe tbody tr th {\n",
       "        vertical-align: top;\n",
       "    }\n",
       "\n",
       "    .dataframe thead th {\n",
       "        text-align: right;\n",
       "    }\n",
       "</style>\n",
       "<table border=\"1\" class=\"dataframe\">\n",
       "  <thead>\n",
       "    <tr style=\"text-align: right;\">\n",
       "      <th></th>\n",
       "      <th></th>\n",
       "      <th>average_trip_duration</th>\n",
       "    </tr>\n",
       "    <tr>\n",
       "      <th>usertype</th>\n",
       "      <th>day_of_week</th>\n",
       "      <th></th>\n",
       "    </tr>\n",
       "  </thead>\n",
       "  <tbody>\n",
       "    <tr>\n",
       "      <th rowspan=\"7\" valign=\"top\">Subscriber</th>\n",
       "      <th>Friday</th>\n",
       "      <td>0 days 00:10:44</td>\n",
       "    </tr>\n",
       "    <tr>\n",
       "      <th>Tuesday</th>\n",
       "      <td>0 days 00:10:58</td>\n",
       "    </tr>\n",
       "    <tr>\n",
       "      <th>Monday</th>\n",
       "      <td>0 days 00:10:59</td>\n",
       "    </tr>\n",
       "    <tr>\n",
       "      <th>Thursday</th>\n",
       "      <td>0 days 00:11:02</td>\n",
       "    </tr>\n",
       "    <tr>\n",
       "      <th>Sunday</th>\n",
       "      <td>0 days 00:11:14</td>\n",
       "    </tr>\n",
       "    <tr>\n",
       "      <th>Wednesday</th>\n",
       "      <td>0 days 00:11:31</td>\n",
       "    </tr>\n",
       "    <tr>\n",
       "      <th>Saturday</th>\n",
       "      <td>0 days 00:11:46</td>\n",
       "    </tr>\n",
       "    <tr>\n",
       "      <th rowspan=\"7\" valign=\"top\">Customer</th>\n",
       "      <th>Monday</th>\n",
       "      <td>0 days 00:32:39</td>\n",
       "    </tr>\n",
       "    <tr>\n",
       "      <th>Thursday</th>\n",
       "      <td>0 days 00:33:15</td>\n",
       "    </tr>\n",
       "    <tr>\n",
       "      <th>Tuesday</th>\n",
       "      <td>0 days 00:33:18</td>\n",
       "    </tr>\n",
       "    <tr>\n",
       "      <th>Saturday</th>\n",
       "      <td>0 days 00:33:31</td>\n",
       "    </tr>\n",
       "    <tr>\n",
       "      <th>Friday</th>\n",
       "      <td>0 days 00:33:43</td>\n",
       "    </tr>\n",
       "    <tr>\n",
       "      <th>Wednesday</th>\n",
       "      <td>0 days 00:34:37</td>\n",
       "    </tr>\n",
       "    <tr>\n",
       "      <th>Sunday</th>\n",
       "      <td>0 days 00:38:39</td>\n",
       "    </tr>\n",
       "  </tbody>\n",
       "</table>\n",
       "</div>"
      ],
      "text/plain": [
       "                       average_trip_duration\n",
       "usertype   day_of_week                      \n",
       "Subscriber Friday            0 days 00:10:44\n",
       "           Tuesday           0 days 00:10:58\n",
       "           Monday            0 days 00:10:59\n",
       "           Thursday          0 days 00:11:02\n",
       "           Sunday            0 days 00:11:14\n",
       "           Wednesday         0 days 00:11:31\n",
       "           Saturday          0 days 00:11:46\n",
       "Customer   Monday            0 days 00:32:39\n",
       "           Thursday          0 days 00:33:15\n",
       "           Tuesday           0 days 00:33:18\n",
       "           Saturday          0 days 00:33:31\n",
       "           Friday            0 days 00:33:43\n",
       "           Wednesday         0 days 00:34:37\n",
       "           Sunday            0 days 00:38:39"
      ]
     },
     "execution_count": 273,
     "metadata": {},
     "output_type": "execute_result"
    }
   ],
   "source": [
    "#Identifying the average trip on any given day of the week\n",
    "day_of_week = bks_df.groupby(['usertype','day_of_week'])['trip_duration_seconds'].mean().round()\n",
    "\n",
    "#Converting the series day_of_week to a dataframe\n",
    "day_of_week = day_of_week.to_frame()\n",
    "\n",
    "#Converting 'trip_duration_seconds' back into timedelta format for readability \n",
    "day_of_week['average_trip_duration'] = day_of_week['trip_duration_seconds'].apply(lambda time: (datetime.timedelta(seconds = time))) \n",
    "\n",
    "#Dropping 'trip_duration_seconds' as it is no longer needed\n",
    "day_of_week.drop('trip_duration_seconds',axis=1, inplace=True)\n",
    "\n",
    "#Sorting values by'average_trip_duration'\n",
    "day_of_week.sort_values(by='average_trip_duration')\n"
   ]
  },
  {
   "cell_type": "markdown",
   "metadata": {},
   "source": [
    "Note: Directly using <b> bks_df.groupby(['usertype','day_of_week'])['trip_duration'].mean() </b> will not work because Python will not have any numeric data to aggregate"
   ]
  },
  {
   "cell_type": "markdown",
   "metadata": {},
   "source": [
    "- On average, <b>Customers</b> make the longest trips on <b>Saturday</b> and the shortest trips on <b>Friday</b>\n",
    "- On average, <b>Subscribers</b> make the longest trips on <b>Sunday</b> and the shortest trips on <b>Friday</b>"
   ]
  },
  {
   "cell_type": "markdown",
   "metadata": {},
   "source": [
    "### Number of Trips by Day of Week"
   ]
  },
  {
   "cell_type": "code",
   "execution_count": 274,
   "metadata": {},
   "outputs": [
    {
     "data": {
      "text/html": [
       "<div>\n",
       "<style scoped>\n",
       "    .dataframe tbody tr th:only-of-type {\n",
       "        vertical-align: middle;\n",
       "    }\n",
       "\n",
       "    .dataframe tbody tr th {\n",
       "        vertical-align: top;\n",
       "    }\n",
       "\n",
       "    .dataframe thead th {\n",
       "        text-align: right;\n",
       "    }\n",
       "</style>\n",
       "<table border=\"1\" class=\"dataframe\">\n",
       "  <thead>\n",
       "    <tr style=\"text-align: right;\">\n",
       "      <th></th>\n",
       "      <th></th>\n",
       "      <th>day_of_week</th>\n",
       "    </tr>\n",
       "    <tr>\n",
       "      <th>usertype</th>\n",
       "      <th>day_of_week</th>\n",
       "      <th></th>\n",
       "    </tr>\n",
       "  </thead>\n",
       "  <tbody>\n",
       "    <tr>\n",
       "      <th rowspan=\"7\" valign=\"top\">Customer</th>\n",
       "      <th>Saturday</th>\n",
       "      <td>4752</td>\n",
       "    </tr>\n",
       "    <tr>\n",
       "      <th>Wednesday</th>\n",
       "      <td>3722</td>\n",
       "    </tr>\n",
       "    <tr>\n",
       "      <th>Sunday</th>\n",
       "      <td>3637</td>\n",
       "    </tr>\n",
       "    <tr>\n",
       "      <th>Thursday</th>\n",
       "      <td>3145</td>\n",
       "    </tr>\n",
       "    <tr>\n",
       "      <th>Friday</th>\n",
       "      <td>2800</td>\n",
       "    </tr>\n",
       "    <tr>\n",
       "      <th>Tuesday</th>\n",
       "      <td>2773</td>\n",
       "    </tr>\n",
       "    <tr>\n",
       "      <th>Monday</th>\n",
       "      <td>2206</td>\n",
       "    </tr>\n",
       "    <tr>\n",
       "      <th rowspan=\"7\" valign=\"top\">Subscriber</th>\n",
       "      <th>Thursday</th>\n",
       "      <td>63398</td>\n",
       "    </tr>\n",
       "    <tr>\n",
       "      <th>Tuesday</th>\n",
       "      <td>56751</td>\n",
       "    </tr>\n",
       "    <tr>\n",
       "      <th>Friday</th>\n",
       "      <td>54851</td>\n",
       "    </tr>\n",
       "    <tr>\n",
       "      <th>Wednesday</th>\n",
       "      <td>54193</td>\n",
       "    </tr>\n",
       "    <tr>\n",
       "      <th>Monday</th>\n",
       "      <td>44907</td>\n",
       "    </tr>\n",
       "    <tr>\n",
       "      <th>Sunday</th>\n",
       "      <td>34921</td>\n",
       "    </tr>\n",
       "    <tr>\n",
       "      <th>Saturday</th>\n",
       "      <td>31664</td>\n",
       "    </tr>\n",
       "  </tbody>\n",
       "</table>\n",
       "</div>"
      ],
      "text/plain": [
       "                        day_of_week\n",
       "usertype   day_of_week             \n",
       "Customer   Saturday            4752\n",
       "           Wednesday           3722\n",
       "           Sunday              3637\n",
       "           Thursday            3145\n",
       "           Friday              2800\n",
       "           Tuesday             2773\n",
       "           Monday              2206\n",
       "Subscriber Thursday           63398\n",
       "           Tuesday            56751\n",
       "           Friday             54851\n",
       "           Wednesday          54193\n",
       "           Monday             44907\n",
       "           Sunday             34921\n",
       "           Saturday           31664"
      ]
     },
     "execution_count": 274,
     "metadata": {},
     "output_type": "execute_result"
    }
   ],
   "source": [
    "#Identifying number of trips on a given day of the week by user type\n",
    "number_of_trips = bks_df.groupby('usertype')['day_of_week'].value_counts()\n",
    "\n",
    "#Converting the series number_of_trips to a dataframe\n",
    "number_of_trips = number_of_trips.to_frame()\n",
    "\n",
    "number_of_trips"
   ]
  },
  {
   "cell_type": "markdown",
   "metadata": {},
   "source": [
    "- <b>Customers</b> make the most trips on <b>Saturday</b> and the least trips on <b>Monday</b>\n",
    "- <b>Subscribers</b> make the most trips on <b>Thursday</b> and the least trips on <b>Saturday</b>"
   ]
  },
  {
   "cell_type": "markdown",
   "metadata": {},
   "source": [
    "### Trip Start Times"
   ]
  },
  {
   "cell_type": "code",
   "execution_count": 56,
   "metadata": {
    "scrolled": true
   },
   "outputs": [
    {
     "data": {
      "text/plain": [
       "Text(0.5, 1.0, 'Ride Start Times throughout the Day')"
      ]
     },
     "execution_count": 56,
     "metadata": {},
     "output_type": "execute_result"
    },
    {
     "data": {
      "image/png": "[encoded data removed]",
      "text/plain": [
       "<Figure size 1440x288 with 1 Axes>"
      ]
     },
     "metadata": {
      "needs_background": "light"
     },
     "output_type": "display_data"
    }
   ],
   "source": [
    "# Analyzing the trip start times to identify how many trips begin at various times throughout the day.\n",
    "\n",
    "# Isolating the time portion from bks_df['start_time']\n",
    "start_time = bks_df['start_time'].dt.time \n",
    "\n",
    "start_time_counts = start_time.value_counts()\n",
    "\n",
    "#X-axis ticks will have to be set manually since the plot is difficult to read otherwise\n",
    "\n",
    "#Creating a series that will be populated using a for loop \n",
    "time_series = []\n",
    "for x in range(24):\n",
    "    #Note {:02d} ensures there are leading zeros (01,02,etc.) which is consistent with time formatting\n",
    "    time_series.append(\"{:02d}:00:00\".format(x))\n",
    "\n",
    "time_series.append(\"23:59:00\")\n",
    "\n",
    "fig_dims = (20, 4)\n",
    "fig, ax = plt.subplots(figsize=fig_dims)\n",
    "\n",
    "#The x-ticks are set to the time series just created\n",
    "start_time_counts.plot(xticks=time_series)\n",
    "plt.title(\"Ride Start Times throughout the Day\", fontsize=20)"
   ]
  },
  {
   "cell_type": "markdown",
   "metadata": {},
   "source": [
    "As seen above, the number of rides peaks at two different points on any given day, which correspond roughly with daily commute times where users may be heading to and from their workplaces.\n",
    "\n",
    "<b>Morning Commute:</b> Rides begins to rise after 5 AM, reaching a peak between 8 AM and 9 AM and then plateau around 10 AM.\n",
    "\n",
    "<b>Late Afternoon/Evening Commute:</b> Rides begins to rise after 3 PM, reaching a peak sometime after 5 PM peak and then continue to decrease until the end of the day. "
   ]
  },
  {
   "cell_type": "code",
   "execution_count": 58,
   "metadata": {
    "scrolled": true
   },
   "outputs": [
    {
     "data": {
      "text/plain": [
       "Text(0.5, 1.0, 'Customer Ride Start Times throughout the Day')"
      ]
     },
     "execution_count": 58,
     "metadata": {},
     "output_type": "execute_result"
    },
    {
     "data": {
      "image/png": "[encoded data removed]",
      "text/plain": [
       "<Figure size 1440x288 with 1 Axes>"
      ]
     },
     "metadata": {
      "needs_background": "light"
     },
     "output_type": "display_data"
    }
   ],
   "source": [
    "# Analyzing the trip start times to identify how many trips begin at various times throughout the day.\n",
    "\n",
    "#Looking at Customer rides specifically\n",
    "customer_trips = bks_df[bks_df[\"usertype\"]==\"Customer\"]\n",
    "\n",
    "# Isolating the time portion from bks_df['start_time']\n",
    "start_time = customer_trips['start_time'].dt.time \n",
    "\n",
    "start_time_counts = start_time.value_counts()\n",
    "\n",
    "#X-axis ticks will have to be set manually since the plot is difficult to read otherwise\n",
    "\n",
    "#Creating a series that will be populated using a for loop \n",
    "time_series = []\n",
    "for x in range(24):\n",
    "    #Note {:02d} ensures there are leading zeros (01,02,etc.) which is consistent with time formatting\n",
    "    time_series.append(\"{:02d}:00:00\".format(x))\n",
    "\n",
    "time_series.append(\"23:59:00\")\n",
    "\n",
    "fig_dims = (20, 4)\n",
    "fig, ax = plt.subplots(figsize=fig_dims)\n",
    "\n",
    "#The x-ticks are set to the time series just created\n",
    "start_time_counts.plot(xticks=time_series)\n",
    "plt.title(\"Customer Ride Start Times throughout the Day\", fontsize=20)"
   ]
  },
  {
   "cell_type": "markdown",
   "metadata": {},
   "source": [
    "Customer trips follow a different trend than the data overall. \n",
    "\n",
    "The rides began to rise after 6 AM, reaching a peak sometime after 3 PM and then continue to decrease until the end of the day. "
   ]
  },
  {
   "cell_type": "markdown",
   "metadata": {},
   "source": [
    "### Trip Start/End Locations"
   ]
  },
  {
   "cell_type": "markdown",
   "metadata": {},
   "source": [
    "<b>Top ten bike stations where rides begin</b>"
   ]
  },
  {
   "cell_type": "code",
   "execution_count": 276,
   "metadata": {
    "scrolled": true
   },
   "outputs": [
    {
     "data": {
      "text/html": [
       "<div>\n",
       "<style scoped>\n",
       "    .dataframe tbody tr th:only-of-type {\n",
       "        vertical-align: middle;\n",
       "    }\n",
       "\n",
       "    .dataframe tbody tr th {\n",
       "        vertical-align: top;\n",
       "    }\n",
       "\n",
       "    .dataframe thead th {\n",
       "        text-align: right;\n",
       "    }\n",
       "</style>\n",
       "<table border=\"1\" class=\"dataframe\">\n",
       "  <thead>\n",
       "    <tr style=\"text-align: right;\">\n",
       "      <th></th>\n",
       "      <th>start_station_name</th>\n",
       "      <th>number_of_trips_start</th>\n",
       "    </tr>\n",
       "  </thead>\n",
       "  <tbody>\n",
       "    <tr>\n",
       "      <th>0</th>\n",
       "      <td>Clinton St &amp; Washington Blvd</td>\n",
       "      <td>7653</td>\n",
       "    </tr>\n",
       "    <tr>\n",
       "      <th>1</th>\n",
       "      <td>Clinton St &amp; Madison St</td>\n",
       "      <td>6512</td>\n",
       "    </tr>\n",
       "    <tr>\n",
       "      <th>2</th>\n",
       "      <td>Canal St &amp; Adams St</td>\n",
       "      <td>6335</td>\n",
       "    </tr>\n",
       "    <tr>\n",
       "      <th>3</th>\n",
       "      <td>Columbus Dr &amp; Randolph St</td>\n",
       "      <td>4651</td>\n",
       "    </tr>\n",
       "    <tr>\n",
       "      <th>4</th>\n",
       "      <td>Canal St &amp; Madison St</td>\n",
       "      <td>4569</td>\n",
       "    </tr>\n",
       "    <tr>\n",
       "      <th>5</th>\n",
       "      <td>Kingsbury St &amp; Kinzie St</td>\n",
       "      <td>4389</td>\n",
       "    </tr>\n",
       "    <tr>\n",
       "      <th>6</th>\n",
       "      <td>Michigan Ave &amp; Washington St</td>\n",
       "      <td>3986</td>\n",
       "    </tr>\n",
       "    <tr>\n",
       "      <th>7</th>\n",
       "      <td>Franklin St &amp; Monroe St</td>\n",
       "      <td>3509</td>\n",
       "    </tr>\n",
       "    <tr>\n",
       "      <th>8</th>\n",
       "      <td>Dearborn St &amp; Monroe St</td>\n",
       "      <td>3243</td>\n",
       "    </tr>\n",
       "    <tr>\n",
       "      <th>9</th>\n",
       "      <td>LaSalle St &amp; Jackson Blvd</td>\n",
       "      <td>3234</td>\n",
       "    </tr>\n",
       "  </tbody>\n",
       "</table>\n",
       "</div>"
      ],
      "text/plain": [
       "             start_station_name  number_of_trips_start\n",
       "0  Clinton St & Washington Blvd                   7653\n",
       "1       Clinton St & Madison St                   6512\n",
       "2           Canal St & Adams St                   6335\n",
       "3     Columbus Dr & Randolph St                   4651\n",
       "4         Canal St & Madison St                   4569\n",
       "5      Kingsbury St & Kinzie St                   4389\n",
       "6  Michigan Ave & Washington St                   3986\n",
       "7       Franklin St & Monroe St                   3509\n",
       "8       Dearborn St & Monroe St                   3243\n",
       "9     LaSalle St & Jackson Blvd                   3234"
      ]
     },
     "execution_count": 276,
     "metadata": {},
     "output_type": "execute_result"
    }
   ],
   "source": [
    "from_stations_df = bks_df['from_station_name'].value_counts().head(10)\n",
    "from_stations_df = from_stations_df.to_frame()\n",
    "\n",
    "#The index for this dataframe contains the station names so we want to put that information in a seaprate column\n",
    "#Resetting the index (also creates a new column called 'index')\n",
    "from_stations_df.reset_index(level=0, inplace=True)\n",
    "\n",
    "#Renaming 'from_station_name' which contains value counts to 'number_of_trips_start' and renaming the 'index' column to 'start_station_name'\n",
    "from_stations_df.rename(columns={'from_station_name': 'number_of_trips_start', 'index':'start_station_name'}, inplace=True)\n",
    "\n",
    "from_stations_df"
   ]
  },
  {
   "cell_type": "markdown",
   "metadata": {},
   "source": [
    "<b>Top ten bike stations where rides end</b>"
   ]
  },
  {
   "cell_type": "code",
   "execution_count": 277,
   "metadata": {},
   "outputs": [
    {
     "data": {
      "text/html": [
       "<div>\n",
       "<style scoped>\n",
       "    .dataframe tbody tr th:only-of-type {\n",
       "        vertical-align: middle;\n",
       "    }\n",
       "\n",
       "    .dataframe tbody tr th {\n",
       "        vertical-align: top;\n",
       "    }\n",
       "\n",
       "    .dataframe thead th {\n",
       "        text-align: right;\n",
       "    }\n",
       "</style>\n",
       "<table border=\"1\" class=\"dataframe\">\n",
       "  <thead>\n",
       "    <tr style=\"text-align: right;\">\n",
       "      <th></th>\n",
       "      <th>end_station_name</th>\n",
       "      <th>number_of_trips_end</th>\n",
       "    </tr>\n",
       "  </thead>\n",
       "  <tbody>\n",
       "    <tr>\n",
       "      <th>0</th>\n",
       "      <td>Clinton St &amp; Washington Blvd</td>\n",
       "      <td>7657</td>\n",
       "    </tr>\n",
       "    <tr>\n",
       "      <th>1</th>\n",
       "      <td>Clinton St &amp; Madison St</td>\n",
       "      <td>6840</td>\n",
       "    </tr>\n",
       "    <tr>\n",
       "      <th>2</th>\n",
       "      <td>Canal St &amp; Adams St</td>\n",
       "      <td>6741</td>\n",
       "    </tr>\n",
       "    <tr>\n",
       "      <th>3</th>\n",
       "      <td>Canal St &amp; Madison St</td>\n",
       "      <td>4870</td>\n",
       "    </tr>\n",
       "    <tr>\n",
       "      <th>4</th>\n",
       "      <td>Michigan Ave &amp; Washington St</td>\n",
       "      <td>4408</td>\n",
       "    </tr>\n",
       "    <tr>\n",
       "      <th>5</th>\n",
       "      <td>Kingsbury St &amp; Kinzie St</td>\n",
       "      <td>4368</td>\n",
       "    </tr>\n",
       "    <tr>\n",
       "      <th>6</th>\n",
       "      <td>LaSalle St &amp; Jackson Blvd</td>\n",
       "      <td>3302</td>\n",
       "    </tr>\n",
       "    <tr>\n",
       "      <th>7</th>\n",
       "      <td>Clinton St &amp; Lake St</td>\n",
       "      <td>3293</td>\n",
       "    </tr>\n",
       "    <tr>\n",
       "      <th>8</th>\n",
       "      <td>Dearborn St &amp; Monroe St</td>\n",
       "      <td>3133</td>\n",
       "    </tr>\n",
       "    <tr>\n",
       "      <th>9</th>\n",
       "      <td>Clinton St &amp; Jackson Blvd (*)</td>\n",
       "      <td>3111</td>\n",
       "    </tr>\n",
       "  </tbody>\n",
       "</table>\n",
       "</div>"
      ],
      "text/plain": [
       "                end_station_name  number_of_trips_end\n",
       "0   Clinton St & Washington Blvd                 7657\n",
       "1        Clinton St & Madison St                 6840\n",
       "2            Canal St & Adams St                 6741\n",
       "3          Canal St & Madison St                 4870\n",
       "4   Michigan Ave & Washington St                 4408\n",
       "5       Kingsbury St & Kinzie St                 4368\n",
       "6      LaSalle St & Jackson Blvd                 3302\n",
       "7           Clinton St & Lake St                 3293\n",
       "8        Dearborn St & Monroe St                 3133\n",
       "9  Clinton St & Jackson Blvd (*)                 3111"
      ]
     },
     "execution_count": 277,
     "metadata": {},
     "output_type": "execute_result"
    }
   ],
   "source": [
    "to_stations_df = bks_df['to_station_name'].value_counts().head(10)\n",
    "to_stations_df = to_stations_df.to_frame()\n",
    "\n",
    "#Resetting the index \n",
    "to_stations_df.reset_index(level=0, inplace=True)\n",
    "\n",
    "#Renaming columns\n",
    "to_stations_df.rename(columns={'to_station_name': 'number_of_trips_end', 'index':'end_station_name'}, inplace=True)\n",
    "\n",
    "to_stations_df "
   ]
  },
  {
   "cell_type": "markdown",
   "metadata": {},
   "source": [
    "There's a lot of overlap in the top 10 stations where rides begin/end so it is useful to identify which stations appear in both lists."
   ]
  },
  {
   "cell_type": "markdown",
   "metadata": {},
   "source": [
    "<b>Stations that appear on both lists</b>"
   ]
  },
  {
   "cell_type": "code",
   "execution_count": 278,
   "metadata": {},
   "outputs": [
    {
     "data": {
      "text/plain": [
       "0         Clinton St & Madison St\n",
       "1             Canal St & Adams St\n",
       "2    Michigan Ave & Washington St\n",
       "3    Clinton St & Washington Blvd\n",
       "4         Dearborn St & Monroe St\n",
       "5           Canal St & Madison St\n",
       "6       LaSalle St & Jackson Blvd\n",
       "7        Kingsbury St & Kinzie St\n",
       "dtype: object"
      ]
     },
     "execution_count": 278,
     "metadata": {},
     "output_type": "execute_result"
    }
   ],
   "source": [
    "#Creating two series each with the names of the top 10 stations\n",
    "start = from_stations_df['start_station_name']\n",
    "end = to_stations_df['end_station_name']\n",
    "\n",
    "#Identifying the intersection of both series\n",
    "pd.Series(list(set(start) & set(end)))"
   ]
  },
  {
   "cell_type": "markdown",
   "metadata": {},
   "source": [
    "The bike stations listed are <b>points where the most rides both begin and end</b>, which makes them ideal locations for marketing promotions.  "
   ]
  },
  {
   "cell_type": "markdown",
   "metadata": {},
   "source": [
    "We can further explore what the top stations are by usertype. As we are primarily interested in converting Customers to Subscribers, it is valuable to know which stations marketing efforts should be focused on to target customers.\n",
    "\n",
    "<b>Top ten bike stations where rides begin for <i>Customers</i> </b>"
   ]
  },
  {
   "cell_type": "code",
   "execution_count": 286,
   "metadata": {
    "scrolled": true
   },
   "outputs": [
    {
     "data": {
      "text/html": [
       "<div>\n",
       "<style scoped>\n",
       "    .dataframe tbody tr th:only-of-type {\n",
       "        vertical-align: middle;\n",
       "    }\n",
       "\n",
       "    .dataframe tbody tr th {\n",
       "        vertical-align: top;\n",
       "    }\n",
       "\n",
       "    .dataframe thead th {\n",
       "        text-align: right;\n",
       "    }\n",
       "</style>\n",
       "<table border=\"1\" class=\"dataframe\">\n",
       "  <thead>\n",
       "    <tr style=\"text-align: right;\">\n",
       "      <th></th>\n",
       "      <th></th>\n",
       "      <th>number_of_trips</th>\n",
       "    </tr>\n",
       "    <tr>\n",
       "      <th>usertype</th>\n",
       "      <th>from_station_name</th>\n",
       "      <th></th>\n",
       "    </tr>\n",
       "  </thead>\n",
       "  <tbody>\n",
       "    <tr>\n",
       "      <th rowspan=\"10\" valign=\"top\">Customer</th>\n",
       "      <th>Streeter Dr &amp; Grand Ave</th>\n",
       "      <td>1218</td>\n",
       "    </tr>\n",
       "    <tr>\n",
       "      <th>Lake Shore Dr &amp; Monroe St</th>\n",
       "      <td>1140</td>\n",
       "    </tr>\n",
       "    <tr>\n",
       "      <th>Shedd Aquarium</th>\n",
       "      <td>833</td>\n",
       "    </tr>\n",
       "    <tr>\n",
       "      <th>Millennium Park</th>\n",
       "      <td>622</td>\n",
       "    </tr>\n",
       "    <tr>\n",
       "      <th>Michigan Ave &amp; Oak St</th>\n",
       "      <td>386</td>\n",
       "    </tr>\n",
       "    <tr>\n",
       "      <th>Adler Planetarium</th>\n",
       "      <td>361</td>\n",
       "    </tr>\n",
       "    <tr>\n",
       "      <th>Dusable Harbor</th>\n",
       "      <td>342</td>\n",
       "    </tr>\n",
       "    <tr>\n",
       "      <th>Michigan Ave &amp; Washington St</th>\n",
       "      <td>342</td>\n",
       "    </tr>\n",
       "    <tr>\n",
       "      <th>Field Museum</th>\n",
       "      <td>298</td>\n",
       "    </tr>\n",
       "    <tr>\n",
       "      <th>Buckingham Fountain (Temp)</th>\n",
       "      <td>256</td>\n",
       "    </tr>\n",
       "  </tbody>\n",
       "</table>\n",
       "</div>"
      ],
      "text/plain": [
       "                                       number_of_trips\n",
       "usertype from_station_name                            \n",
       "Customer Streeter Dr & Grand Ave                  1218\n",
       "         Lake Shore Dr & Monroe St                1140\n",
       "         Shedd Aquarium                            833\n",
       "         Millennium Park                           622\n",
       "         Michigan Ave & Oak St                     386\n",
       "         Adler Planetarium                         361\n",
       "         Dusable Harbor                            342\n",
       "         Michigan Ave & Washington St              342\n",
       "         Field Museum                              298\n",
       "         Buckingham Fountain (Temp)                256"
      ]
     },
     "execution_count": 286,
     "metadata": {},
     "output_type": "execute_result"
    }
   ],
   "source": [
    "#Identifying Customers\n",
    "customers_from_stations = bks_df[bks_df['usertype']==\"Customer\"]\n",
    "\n",
    "#Identifying top 5 stations where Customers begin trips from\n",
    "customers_from_stations = customers_from_stations.groupby('usertype')['from_station_name'].value_counts().head(10)\n",
    "customers_from_stations = customers_from_stations.to_frame()\n",
    "\n",
    "#Renaming columns\n",
    "customers_from_stations.rename(columns={'from_station_name': 'number_of_trips'}, inplace=True)\n",
    "\n",
    "customers_from_stations"
   ]
  },
  {
   "cell_type": "markdown",
   "metadata": {},
   "source": [
    "<b>Top five bike stations where rides end for <i>Customers</i> </b>"
   ]
  },
  {
   "cell_type": "code",
   "execution_count": 287,
   "metadata": {
    "scrolled": false
   },
   "outputs": [
    {
     "data": {
      "text/html": [
       "<div>\n",
       "<style scoped>\n",
       "    .dataframe tbody tr th:only-of-type {\n",
       "        vertical-align: middle;\n",
       "    }\n",
       "\n",
       "    .dataframe tbody tr th {\n",
       "        vertical-align: top;\n",
       "    }\n",
       "\n",
       "    .dataframe thead th {\n",
       "        text-align: right;\n",
       "    }\n",
       "</style>\n",
       "<table border=\"1\" class=\"dataframe\">\n",
       "  <thead>\n",
       "    <tr style=\"text-align: right;\">\n",
       "      <th></th>\n",
       "      <th></th>\n",
       "      <th>number_of_trips</th>\n",
       "    </tr>\n",
       "    <tr>\n",
       "      <th>usertype</th>\n",
       "      <th>to_station_name</th>\n",
       "      <th></th>\n",
       "    </tr>\n",
       "  </thead>\n",
       "  <tbody>\n",
       "    <tr>\n",
       "      <th rowspan=\"10\" valign=\"top\">Customer</th>\n",
       "      <th>Streeter Dr &amp; Grand Ave</th>\n",
       "      <td>1931</td>\n",
       "    </tr>\n",
       "    <tr>\n",
       "      <th>Lake Shore Dr &amp; Monroe St</th>\n",
       "      <td>891</td>\n",
       "    </tr>\n",
       "    <tr>\n",
       "      <th>Millennium Park</th>\n",
       "      <td>818</td>\n",
       "    </tr>\n",
       "    <tr>\n",
       "      <th>Shedd Aquarium</th>\n",
       "      <td>639</td>\n",
       "    </tr>\n",
       "    <tr>\n",
       "      <th>Michigan Ave &amp; Oak St</th>\n",
       "      <td>447</td>\n",
       "    </tr>\n",
       "    <tr>\n",
       "      <th>Michigan Ave &amp; Washington St</th>\n",
       "      <td>409</td>\n",
       "    </tr>\n",
       "    <tr>\n",
       "      <th>Theater on the Lake</th>\n",
       "      <td>348</td>\n",
       "    </tr>\n",
       "    <tr>\n",
       "      <th>Adler Planetarium</th>\n",
       "      <td>295</td>\n",
       "    </tr>\n",
       "    <tr>\n",
       "      <th>Lake Shore Dr &amp; North Blvd</th>\n",
       "      <td>286</td>\n",
       "    </tr>\n",
       "    <tr>\n",
       "      <th>Wabash Ave &amp; Grand Ave</th>\n",
       "      <td>242</td>\n",
       "    </tr>\n",
       "  </tbody>\n",
       "</table>\n",
       "</div>"
      ],
      "text/plain": [
       "                                       number_of_trips\n",
       "usertype to_station_name                              \n",
       "Customer Streeter Dr & Grand Ave                  1931\n",
       "         Lake Shore Dr & Monroe St                 891\n",
       "         Millennium Park                           818\n",
       "         Shedd Aquarium                            639\n",
       "         Michigan Ave & Oak St                     447\n",
       "         Michigan Ave & Washington St              409\n",
       "         Theater on the Lake                       348\n",
       "         Adler Planetarium                         295\n",
       "         Lake Shore Dr & North Blvd                286\n",
       "         Wabash Ave & Grand Ave                    242"
      ]
     },
     "execution_count": 287,
     "metadata": {},
     "output_type": "execute_result"
    }
   ],
   "source": [
    "#Identifying Customers\n",
    "customers_to_stations = bks_df[bks_df['usertype']==\"Customer\"]\n",
    "\n",
    "#Identifying top 5 stations where Customers begin trips from\n",
    "customers_to_stations = customers_to_stations.groupby('usertype')['to_station_name'].value_counts().head(10)\n",
    "customers_to_stations = customers_to_stations.to_frame()\n",
    "\n",
    "#Renaming columns\n",
    "customers_to_stations.rename(columns={'to_station_name': 'number_of_trips'}, inplace=True)\n",
    "\n",
    "customers_to_stations"
   ]
  },
  {
   "cell_type": "markdown",
   "metadata": {},
   "source": [
    "<b>Stations that appear on both lists</b>"
   ]
  },
  {
   "cell_type": "code",
   "execution_count": 291,
   "metadata": {},
   "outputs": [],
   "source": [
    "#As the station names are part of the MultiIndex for the data frames we need to rest the index\n",
    "customers_from_stations.reset_index(level=0, inplace=True)\n",
    "customers_to_stations.reset_index(level=0, inplace=True)"
   ]
  },
  {
   "cell_type": "code",
   "execution_count": 292,
   "metadata": {
    "scrolled": true
   },
   "outputs": [
    {
     "data": {
      "text/plain": [
       "0         Streeter Dr & Grand Ave\n",
       "1    Michigan Ave & Washington St\n",
       "2               Adler Planetarium\n",
       "3       Lake Shore Dr & Monroe St\n",
       "4                  Shedd Aquarium\n",
       "5                 Millennium Park\n",
       "6           Michigan Ave & Oak St\n",
       "dtype: object"
      ]
     },
     "execution_count": 292,
     "metadata": {},
     "output_type": "execute_result"
    }
   ],
   "source": [
    "#Creating two series each with the names of the top 10 stations\n",
    "start = customers_from_stations['from_station_name']\n",
    "end = customers_to_stations['to_station_name']\n",
    "\n",
    "#Identifying the intersection of both series\n",
    "pd.Series(list(set(start) & set(end)))"
   ]
  },
  {
   "cell_type": "markdown",
   "metadata": {},
   "source": [
    "The bike stations listed are <b>points where the most rides both begin and end for <i>Customers</i></b>, which makes them ideal locations for marketing promotions <i>specifically targeted</i> at them."
   ]
  },
  {
   "cell_type": "markdown",
   "metadata": {},
   "source": [
    "# Summary of Customer Data"
   ]
  },
  {
   "cell_type": "markdown",
   "metadata": {},
   "source": [
    "- There are 23,035 customer. \n",
    "- There are 14.8 times more Subscribers than Customers\n",
    "\n",
    "<b>Age</b>\n",
    "- On average, Customers are younger than Subscribers.\n",
    "- Customers between the ages of 31-33 make the most rides.\n",
    "\n",
    "    - Male users between the ages of 27-29 make the most rides.\n",
    "    - Female users between the ages of 25-27 make the most rides.\n",
    "    - Other Gender Identity users between the ages of 31-33 make the most rides\n",
    "\n",
    "<b>Trip Duration</b>\n",
    "\n",
    "- The majority of trips do not exceeed an hour.\n",
    "- On average, Customers make trips that are 3.1 times longer than Subscribers.\n",
    "\n",
    "    - Male users make the most trips.\n",
    "    - Female users are making the longest trips.\n",
    "    - Average age range is 31-32.\n",
    "\n",
    "<b>Day of Week</b>\n",
    "- On average, Customers make the longest trips on Saturday and the shortest trips on Friday\n",
    "- Customers make the most trips on Saturday and the least trips on Monday\n",
    "\n",
    "<b>Start Times and Stations</b>\n",
    "- The rides began to rise after 6 AM, reaching a peak sometime after 3 PM and then continue to decrease until the end of the day.\n",
    "- The bike stations listed are points where the most rides both begin and end for Customers, which makes them ideal locations for marketing promotions specifically targeted at them.\n",
    "- The bike stations listed are points where the most rides both begin and end, which makes them ideal locations for marketing promotions.\n",
    "\n",
    "    - Streeter Dr & Grand Ave\n",
    "    - Michigan Ave & Washington St\n",
    "    - Adler Planetarium\n",
    "    - Lake Shore Dr & Monroe St\n",
    "    - Shedd Aquarium\n",
    "    - Millennium Park\n",
    "    - Michigan Ave & Oak St\n",
    "\n",
    "\n"
   ]
  },
  {
   "cell_type": "markdown",
   "metadata": {},
   "source": [
    "# Reccomendations"
   ]
  },
  {
   "cell_type": "markdown",
   "metadata": {},
   "source": [
    "<b>Focus on what is valuable to Customers</b>\n",
    "\n",
    "- Customers make longer trips than Subscribers. Longer trips will have a higher cost for the customer. The marketing team could highlight the decrease in cost from switching to becoming a Subscriber. The trip duration does not vary significantly for Customers regardless of the day of the week. Therefore, depending on the frequency of use by each customer, the customer would stand to save a significant amount by switching.\n",
    "<br>\n",
    "- Customers have a slight preference for weekend trips, The marketing teams could offer deals for Customers who choose to become Subscribers on a weekend. \n",
    "<br>\n",
    "- Customers also tend to be younger than Subscribers (primarily in their early 30's) so the marketing campaign should cater to the interests of this demographic. Customers may be using the bike share service for personal use such as running errands, travelling to meet someone etc. The marketing team could survey Customers to find out their interests and offer promotions such as discounts at grocery stores, a discounted annual price for referring friends etc. depending on their interests. \n",
    "<br>\n",
    "- The majority of Customers and Subscribers appear to be men. Therefore, the marketing team may want to change their marketing campaign to attract female users and users of other gender identities and expand their user base.\n",
    "<br>\n",
    "- Customer rides also appear to not follow the traditional commuting patterns, which may suggest that the customers either do not work traditional office jobs that require them to commute to and from work. Therefore the key time period to market promotions would be around 3 PM when the most rides are occuring. \n",
    "<br>\n",
    "- The Marketing team should distribute promotional materials at the stations identified that see the most traffic, where the majority of Customer tier trips begin and end. These locations are frequented the most by customers and provides an opportunity to entice them to make the switch to become Subscribers."
   ]
  },
  {
   "cell_type": "markdown",
   "metadata": {},
   "source": [
    "<b>Additional Data necessary</b><br>\n",
    "The company should associate a unique customer id with each trip to identify individual customer behaviors. The unique identifiers would reveal information on the frequency of bike trips made by each customer. For example, it would reveal how many trips each customer makes a week on average, which may reveal if there are specific differences or similarities in the two tiers of customers."
   ]
  }
 ],
 "metadata": {
  "kernelspec": {
   "display_name": "Python 3",
   "language": "python",
   "name": "python3"
  },
  "language_info": {
   "codemirror_mode": {
    "name": "ipython",
    "version": 3
   },
   "file_extension": ".py",
   "mimetype": "text/x-python",
   "name": "python",
   "nbconvert_exporter": "python",
   "pygments_lexer": "ipython3",
   "version": "3.8.5"
  }
 },
 "nbformat": 4,
 "nbformat_minor": 4
}
